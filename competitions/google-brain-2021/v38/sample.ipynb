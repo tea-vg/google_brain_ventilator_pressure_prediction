{
 "cells": [
  {
   "cell_type": "markdown",
   "metadata": {},
   "source": [
    "```\n",
    "This Notebook is sample. \n",
    "This Notebook can be placed and used under dir vXXX\n",
    "```"
   ]
  },
  {
   "cell_type": "markdown",
   "metadata": {},
   "source": [
    "# Install Modules"
   ]
  },
  {
   "cell_type": "code",
   "execution_count": null,
   "metadata": {},
   "outputs": [],
   "source": [
    "# ! pip install -q slackweb, transformers"
   ]
  },
  {
   "cell_type": "markdown",
   "metadata": {},
   "source": [
    "# Resolve Path"
   ]
  },
  {
   "cell_type": "code",
   "execution_count": null,
   "metadata": {},
   "outputs": [],
   "source": [
    "import sys\n",
    "sys.path.append(\"../../..\")\n",
    "sys.path.append(\"..\")"
   ]
  },
  {
   "cell_type": "markdown",
   "metadata": {},
   "source": [
    "# Import"
   ]
  },
  {
   "cell_type": "code",
   "execution_count": null,
   "metadata": {},
   "outputs": [],
   "source": [
    "import gc\n",
    "import pandas as pd\n",
    "from sklearn.model_selection import StratifiedKFold\n",
    "\n",
    "from teads.notebook.config import NotebookConfig\n",
    "from teads.notebook.version import Version\n",
    "from teads.util.logger import StdoutLogger, FileLogger\n",
    "from teads.util.notification import Slack\n",
    "from teads.util.util import in_kaggle, in_colab\n",
    "from teads.util.reduce_mem_usage import reduce_mem_usage\n",
    "from google_brain.dataset import GoogleBrainTorchDatasetCreator\n",
    "from google_brain.context import GoogleBrainContext\n",
    "from google_brain.metrics import MAE\n",
    "from google_brain.lstm_cls.lstm import GoogleBrainLSTM\n",
    "from google_brain.lstm_cls.experiment import GoogleBrainLSTMExperimentConfig, GoogleBrainLSTMExperiment\n",
    "\n",
    "# import warnings\n",
    "# warnings.simplefilter(\"ignore\")"
   ]
  },
  {
   "cell_type": "markdown",
   "metadata": {},
   "source": [
    "# Config"
   ]
  },
  {
   "cell_type": "code",
   "execution_count": null,
   "metadata": {},
   "outputs": [],
   "source": [
    "notification = Slack(\"your_slack_webhook_url\")"
   ]
  },
  {
   "cell_type": "code",
   "execution_count": null,
   "metadata": {},
   "outputs": [],
   "source": [
    "global_conf = NotebookConfig(\n",
    "    version = Version(\n",
    "        1, \n",
    "        \"\"\"\n",
    "        hogehoge\n",
    "        \"\"\"\n",
    "    ),\n",
    "    logger=StdoutLogger(),\n",
    "    file_logger=FileLogger(\"lstm_cls\"),\n",
    "    notification=notification,\n",
    "    seed=1,\n",
    "    is_local=True\n",
    ")"
   ]
  },
  {
   "cell_type": "markdown",
   "metadata": {},
   "source": [
    "# Prepare Data"
   ]
  },
  {
   "cell_type": "code",
   "execution_count": null,
   "metadata": {},
   "outputs": [],
   "source": [
    "if global_conf.is_local:\n",
    "    train = pd.read_csv(\"../input/train.csv\")\n",
    "    test = pd.read_csv(\"../input/test.csv\")\n",
    "    sample_submission = pd.read_csv(\"../input/sample_submission.csv\")\n",
    "elif in_kaggle():\n",
    "    train = pd.read_csv(\"../input/google-brain-fold/train.csv\")\n",
    "    test = pd.read_csv(\"../input/ventilator-pressure-prediction/test.csv\")\n",
    "    sample_submission = pd.read_csv(\"../input/ventilator-pressure-prediction/sample_submission.csv\")\n",
    "elif in_colab():\n",
    "    train = pd.read_csv(\"/content/drive/MyDrive/kaggle/google-brain-2021/input/train.csv\")\n",
    "    test = pd.read_csv(\"/content/drive/MyDrive/kaggle/google-brain-2021/input/test.csv\")\n",
    "    sample_submission = pd.read_csv(\"/content/drive/MyDrive/kaggle/google-brain-2021/input/sample_submission.csv\")"
   ]
  },
  {
   "cell_type": "markdown",
   "metadata": {},
   "source": [
    "# Fold"
   ]
  },
  {
   "cell_type": "code",
   "execution_count": null,
   "metadata": {},
   "outputs": [],
   "source": [
    "train[\"R_C\"] = train[\"R\"].astype(str) + \"_\" + train[\"C\"].astype(str)\n",
    "train_gby = train.groupby(\"breath_id\")[\"R_C\"].agg(\"first\").reset_index()\n",
    "cv = StratifiedKFold(n_splits=20, shuffle=True, random_state=global_conf.seed).split(train_gby, train_gby[\"R_C\"])\n",
    "\n",
    "fold_df = pd.DataFrame()\n",
    "fold_df[\"id\"] = train[\"id\"]\n",
    "fold_df[\"fold\"] = -1\n",
    "\n",
    "for fold, (train_idx, valid_idx) in enumerate(cv):\n",
    "    valid_breath_ids = train_gby.iloc[valid_idx][\"breath_id\"].values\n",
    "    idxs = train[train[\"breath_id\"].isin(valid_breath_ids)].index.to_list()\n",
    "    fold_df.loc[idxs, \"fold\"] = fold\n",
    "\n",
    "train[\"stratified_20fold\"] = fold_df[\"fold\"]\n",
    "\n",
    "train = train.drop(columns=[\"R_C\"])"
   ]
  },
  {
   "cell_type": "markdown",
   "metadata": {},
   "source": [
    "# Feature Engineering"
   ]
  },
  {
   "cell_type": "code",
   "execution_count": null,
   "metadata": {},
   "outputs": [],
   "source": [
    "feature_col = [\"id\", \"breath_id\", \"R\", \"C\", \"time_step\", \"u_in\", \"u_out\"]\n",
    "target_col = [\"pressure\"]"
   ]
  },
  {
   "cell_type": "code",
   "execution_count": null,
   "metadata": {},
   "outputs": [],
   "source": [
    "train_X = train[feature_col]\n",
    "train_y = train[target_col]\n",
    "\n",
    "test_X = test[feature_col]\n",
    "\n",
    "folds = train[\"stratified_20fold\"]\n",
    "folds"
   ]
  },
  {
   "cell_type": "code",
   "execution_count": null,
   "metadata": {},
   "outputs": [],
   "source": [
    "del train, test\n",
    "gc.collect()"
   ]
  },
  {
   "cell_type": "code",
   "execution_count": null,
   "metadata": {},
   "outputs": [],
   "source": [
    "%%time\n",
    "features = [\"id\", \"base\", \"u_in\", \"u_out\", \"rc\", \"signal\", \"time_step\", \"mix\"]\n",
    "dataset_creator = GoogleBrainTorchDatasetCreator(train_X, train_y, test_X, features=features, folds=folds)\n",
    "dataset = dataset_creator.make()"
   ]
  },
  {
   "cell_type": "code",
   "execution_count": null,
   "metadata": {},
   "outputs": [],
   "source": [
    "display(dataset.test_X.head())\n",
    "\n",
    "print(\"number of features: \", len(dataset.test_X.columns))\n",
    "print(\"columns: \", dataset.test_X.columns)\n",
    "print(\"u_out uniques: \", dataset.test_X[\"u_out\"].unique())"
   ]
  },
  {
   "cell_type": "markdown",
   "metadata": {},
   "source": [
    "# Context"
   ]
  },
  {
   "cell_type": "code",
   "execution_count": null,
   "metadata": {},
   "outputs": [],
   "source": [
    "context = GoogleBrainContext(dataset, sample_submission, global_conf.logger)"
   ]
  },
  {
   "cell_type": "markdown",
   "metadata": {},
   "source": [
    "# Experiment"
   ]
  },
  {
   "cell_type": "code",
   "execution_count": null,
   "metadata": {},
   "outputs": [],
   "source": [
    "metrics = MAE()\n",
    "score = MAE()"
   ]
  },
  {
   "cell_type": "code",
   "execution_count": null,
   "metadata": {
    "tags": []
   },
   "outputs": [],
   "source": [
    "exp_config = GoogleBrainLSTMExperimentConfig(\n",
    "    exp_name=\"lstm_cls\",\n",
    "    version=global_conf.version.n,\n",
    "    n_fold=20, \n",
    "    metrics=metrics, \n",
    "    score=score, \n",
    "    file_logger=global_conf.file_logger, \n",
    "    std_logger=global_conf.logger, \n",
    "    notification=global_conf.notification,\n",
    "    use_optimize_params=False\n",
    ")\n",
    "\n",
    "exp = GoogleBrainLSTMExperiment(\n",
    "    context, \n",
    "    exp_config,\n",
    "    folds=[i for i in range(20)]\n",
    ")\n",
    "\n",
    "exp_result = exp.run(optimize=False)\n",
    "\n",
    "# exp.remake_oof_submission()"
   ]
  },
  {
   "cell_type": "code",
   "execution_count": null,
   "metadata": {},
   "outputs": [],
   "source": [
    "global_conf.file_logger.default(\n",
    "    [\n",
    "        \"\",\n",
    "        \"================Result=============\",\n",
    "        f\"metrics: {exp_result.metrics}\", \n",
    "        f\"score: {exp_result.score}\",\n",
    "        f\"time: {exp_result.time}\",\n",
    "        \"===================================\",\n",
    "        \"\"\n",
    "    ]\n",
    ")"
   ]
  },
  {
   "cell_type": "code",
   "execution_count": null,
   "metadata": {},
   "outputs": [],
   "source": [
    "exp_result.score"
   ]
  },
  {
   "cell_type": "code",
   "execution_count": null,
   "metadata": {},
   "outputs": [],
   "source": [
    "exp_result.submission_df"
   ]
  }
 ],
 "metadata": {
  "environment": {
   "name": "pytorch-gpu.1-9.m81",
   "type": "gcloud",
   "uri": "gcr.io/deeplearning-platform-release/pytorch-gpu.1-9:m81"
  },
  "interpreter": {
   "hash": "e4184071db7a56a3b3f7f8a59903e7dd397961bb6531d20b855e532d2de0b6b4"
  },
  "kernelspec": {
   "display_name": "Python 3",
   "language": "python",
   "name": "python3"
  },
  "language_info": {
   "codemirror_mode": {
    "name": "ipython",
    "version": 3
   },
   "file_extension": ".py",
   "mimetype": "text/x-python",
   "name": "python",
   "nbconvert_exporter": "python",
   "pygments_lexer": "ipython3",
   "version": "3.7.10"
  }
 },
 "nbformat": 4,
 "nbformat_minor": 4
}
